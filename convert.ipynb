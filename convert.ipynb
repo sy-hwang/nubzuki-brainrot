{
 "cells": [
  {
   "cell_type": "code",
   "execution_count": 2,
   "id": "a4817361",
   "metadata": {},
   "outputs": [
    {
     "name": "stdout",
     "output_type": "stream",
     "text": [
      "Saved alpha map to ./textures/cage_wall_alpha.png\n"
     ]
    }
   ],
   "source": [
    "import sys\n",
    "from PIL import Image\n",
    "\n",
    "def make_alpha_map(input_path, output_path, threshold=128):\n",
    "    # 1) 원본을 그레이스케일로 로드\n",
    "    img = Image.open(input_path).convert(\"L\")\n",
    "\n",
    "    # 2) 색상 반전 (검은 선 → 흰 선)\n",
    "    inv = Image.eval(img, lambda p: 255 - p)\n",
    "\n",
    "    # 3) 이진화 (원하는 경우)\n",
    "    #    (threshold 이하를 0, 초과를 255로)\n",
    "    mask = inv.point(lambda p: 255 if p > threshold else 0)\n",
    "\n",
    "    # 4) 알파 채널로 사용하기 위해 빈 RGBA 이미지 생성\n",
    "    rgba = Image.new(\"RGBA\", mask.size, (255, 255, 255, 0))\n",
    "    rgba.putalpha(mask)\n",
    "\n",
    "    # 5) PNG로 저장\n",
    "    rgba.save(output_path, format=\"PNG\")\n",
    "    print(f\"Saved alpha map to {output_path}\")\n",
    "    \n",
    "make_alpha_map(\"./textures/cage_wall.jpg\", \"./textures/cage_wall_alpha.png\", threshold=30)"
   ]
  },
  {
   "cell_type": "code",
   "execution_count": 1,
   "id": "8355fd04",
   "metadata": {},
   "outputs": [],
   "source": [
    "from PIL import Image, ImageOps\n",
    "\n",
    "# 원본 이미지 열기\n",
    "img = Image.open('./textures/cage_wall.jpg').convert('L')  # Grayscale로 변환\n",
    "img_inverted = ImageOps.invert(img)             # 밝기 반전\n",
    "img_inverted.save('./textures/cage_wall_inverted.jpg')"
   ]
  },
  {
   "cell_type": "code",
   "execution_count": 3,
   "id": "db6e825d",
   "metadata": {},
   "outputs": [
    {
     "data": {
      "text/plain": [
       "True"
      ]
     },
     "execution_count": 3,
     "metadata": {},
     "output_type": "execute_result"
    }
   ],
   "source": [
    "import cv2\n",
    "\n",
    "# 흑백 이미지 로드\n",
    "img = cv2.imread('./textures/cage_wall_inverted.jpg', cv2.IMREAD_GRAYSCALE)\n",
    "\n",
    "# 선 굵게 (팽창 연산)\n",
    "kernel = cv2.getStructuringElement(cv2.MORPH_ELLIPSE, (4, 4))  # 3x3 커널로 약간 굵게\n",
    "dilated = cv2.dilate(img, kernel, iterations=1)\n",
    "\n",
    "# 저장\n",
    "cv2.imwrite('./textures/cage_wall_final.jpg', dilated)"
   ]
  },
  {
   "cell_type": "code",
   "execution_count": null,
   "id": "6032e595",
   "metadata": {},
   "outputs": [],
   "source": []
  }
 ],
 "metadata": {
  "kernelspec": {
   "display_name": "EITS",
   "language": "python",
   "name": "python3"
  },
  "language_info": {
   "codemirror_mode": {
    "name": "ipython",
    "version": 3
   },
   "file_extension": ".py",
   "mimetype": "text/x-python",
   "name": "python",
   "nbconvert_exporter": "python",
   "pygments_lexer": "ipython3",
   "version": "3.10.16"
  }
 },
 "nbformat": 4,
 "nbformat_minor": 5
}
